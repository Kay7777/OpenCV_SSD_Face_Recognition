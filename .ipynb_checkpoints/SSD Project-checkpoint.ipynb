{
 "cells": [
  {
   "cell_type": "code",
   "execution_count": 6,
   "metadata": {},
   "outputs": [],
   "source": [
    "import cv2"
   ]
  },
  {
   "cell_type": "code",
   "execution_count": 7,
   "metadata": {},
   "outputs": [],
   "source": [
    "# Model\n",
    "model_file = 'res10_300x300_ssd_iter_140000_fp16.caffemodel'\n",
    "config_file = 'deploy.prototxt'\n",
    "net = cv2.dnn.readNetFromCaffe(config_file,model_file)\n",
    "threshold = 0.9"
   ]
  },
  {
   "cell_type": "code",
   "execution_count": 8,
   "metadata": {},
   "outputs": [],
   "source": [
    "# rewrite the input picture name and format\n",
    "img = cv2.imread('***.jpg')\n",
    "img.shape\n",
    "frameHeight = img.shape[0]\n",
    "frameWidth = img.shape[1]"
   ]
  },
  {
   "cell_type": "code",
   "execution_count": 9,
   "metadata": {},
   "outputs": [],
   "source": [
    "# necessary works\n",
    "blob = cv2.dnn.blobFromImage(img,1.0,(300,300),[104,117,123],False,False)\n",
    "\n",
    "# set up network input\n",
    "net.setInput(blob)\n",
    "detections = net.forward()\n",
    "\n",
    "for i in range(detections.shape[2]):\n",
    "    detection_score = detections[0,0,i,2]\n",
    "    # compare and repeat\n",
    "    if detection_score > threshold:\n",
    "        x1 = int(detections[0,0,i,3]*frameWidth)\n",
    "        y1 = int(detections[0,0,i,4]*frameHeight)\n",
    "        x2 = int(detections[0,0,i,5]*frameWidth)\n",
    "        y2 = int(detections[0,0,i,6]*frameHeight)\n",
    "        \n",
    "        # draw rectangle\n",
    "        cv2.rectangle(img,(x1,y1),(x2,y2),(255,0,0),2)"
   ]
  },
  {
   "cell_type": "code",
   "execution_count": 10,
   "metadata": {},
   "outputs": [
    {
     "data": {
      "text/plain": [
       "True"
      ]
     },
     "execution_count": 10,
     "metadata": {},
     "output_type": "execute_result"
    }
   ],
   "source": [
    "# rewrite the output picture name and format\n",
    "cv2.imwrite('***.jpg',img)"
   ]
  },
  {
   "cell_type": "code",
   "execution_count": null,
   "metadata": {},
   "outputs": [],
   "source": []
  },
  {
   "cell_type": "code",
   "execution_count": null,
   "metadata": {},
   "outputs": [],
   "source": []
  }
 ],
 "metadata": {
  "kernelspec": {
   "display_name": "Python 3",
   "language": "python",
   "name": "python3"
  },
  "language_info": {
   "codemirror_mode": {
    "name": "ipython",
    "version": 3
   },
   "file_extension": ".py",
   "mimetype": "text/x-python",
   "name": "python",
   "nbconvert_exporter": "python",
   "pygments_lexer": "ipython3",
   "version": "3.7.4"
  }
 },
 "nbformat": 4,
 "nbformat_minor": 2
}
